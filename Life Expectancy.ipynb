{
 "cells": [
  {
   "cell_type": "code",
   "execution_count": 108,
   "metadata": {},
   "outputs": [],
   "source": [
    "import pandas as pd\n",
    "import numpy as np\n",
    "delta1 = pd.read_csv(r\"C:\\Users\\dobar\\Desktop\\DePaul_assignments\\3rd quarter\\DSC 424\\Untitled Folder\\newcleandata.csv\")"
   ]
  },
  {
   "cell_type": "code",
   "execution_count": 109,
   "metadata": {},
   "outputs": [
    {
     "data": {
      "text/html": [
       "<div>\n",
       "<style scoped>\n",
       "    .dataframe tbody tr th:only-of-type {\n",
       "        vertical-align: middle;\n",
       "    }\n",
       "\n",
       "    .dataframe tbody tr th {\n",
       "        vertical-align: top;\n",
       "    }\n",
       "\n",
       "    .dataframe thead th {\n",
       "        text-align: right;\n",
       "    }\n",
       "</style>\n",
       "<table border=\"1\" class=\"dataframe\">\n",
       "  <thead>\n",
       "    <tr style=\"text-align: right;\">\n",
       "      <th></th>\n",
       "      <th>Country</th>\n",
       "      <th>Year</th>\n",
       "      <th>Status</th>\n",
       "      <th>Life.expectancy</th>\n",
       "      <th>Adult.Mortality</th>\n",
       "      <th>Alcohol</th>\n",
       "      <th>Hepatitis.B</th>\n",
       "      <th>BMI</th>\n",
       "      <th>Polio</th>\n",
       "      <th>Total.expenditure</th>\n",
       "      <th>...</th>\n",
       "      <th>thinness.5.9.years</th>\n",
       "      <th>Income.composition.of.resources</th>\n",
       "      <th>Schooling</th>\n",
       "      <th>log_infant</th>\n",
       "      <th>log_percentageexpenditure</th>\n",
       "      <th>log_Measles</th>\n",
       "      <th>log_underfivedeaths</th>\n",
       "      <th>log_HIVAIDS</th>\n",
       "      <th>log_GDP</th>\n",
       "      <th>log_Population</th>\n",
       "    </tr>\n",
       "  </thead>\n",
       "  <tbody>\n",
       "    <tr>\n",
       "      <th>0</th>\n",
       "      <td>Afghanistan</td>\n",
       "      <td>2015</td>\n",
       "      <td>Developing</td>\n",
       "      <td>65.0</td>\n",
       "      <td>263.0</td>\n",
       "      <td>0.01</td>\n",
       "      <td>65.0</td>\n",
       "      <td>19.1</td>\n",
       "      <td>6.0</td>\n",
       "      <td>8.16</td>\n",
       "      <td>...</td>\n",
       "      <td>17.3</td>\n",
       "      <td>0.479</td>\n",
       "      <td>10.1</td>\n",
       "      <td>4.143135</td>\n",
       "      <td>4.280542</td>\n",
       "      <td>7.051856</td>\n",
       "      <td>4.430817</td>\n",
       "      <td>0.09531</td>\n",
       "      <td>6.372055</td>\n",
       "      <td>17.334091</td>\n",
       "    </tr>\n",
       "    <tr>\n",
       "      <th>1</th>\n",
       "      <td>Afghanistan</td>\n",
       "      <td>2014</td>\n",
       "      <td>Developing</td>\n",
       "      <td>59.9</td>\n",
       "      <td>271.0</td>\n",
       "      <td>0.01</td>\n",
       "      <td>62.0</td>\n",
       "      <td>18.6</td>\n",
       "      <td>58.0</td>\n",
       "      <td>8.18</td>\n",
       "      <td>...</td>\n",
       "      <td>17.5</td>\n",
       "      <td>0.476</td>\n",
       "      <td>10.0</td>\n",
       "      <td>4.174387</td>\n",
       "      <td>4.311116</td>\n",
       "      <td>6.200509</td>\n",
       "      <td>4.465908</td>\n",
       "      <td>0.09531</td>\n",
       "      <td>6.419501</td>\n",
       "      <td>12.699497</td>\n",
       "    </tr>\n",
       "    <tr>\n",
       "      <th>2</th>\n",
       "      <td>Afghanistan</td>\n",
       "      <td>2013</td>\n",
       "      <td>Developing</td>\n",
       "      <td>59.9</td>\n",
       "      <td>268.0</td>\n",
       "      <td>0.01</td>\n",
       "      <td>64.0</td>\n",
       "      <td>18.1</td>\n",
       "      <td>62.0</td>\n",
       "      <td>8.13</td>\n",
       "      <td>...</td>\n",
       "      <td>17.7</td>\n",
       "      <td>0.470</td>\n",
       "      <td>9.9</td>\n",
       "      <td>4.204693</td>\n",
       "      <td>4.307023</td>\n",
       "      <td>6.066108</td>\n",
       "      <td>4.499810</td>\n",
       "      <td>0.09531</td>\n",
       "      <td>6.450067</td>\n",
       "      <td>17.272826</td>\n",
       "    </tr>\n",
       "    <tr>\n",
       "      <th>3</th>\n",
       "      <td>Afghanistan</td>\n",
       "      <td>2012</td>\n",
       "      <td>Developing</td>\n",
       "      <td>59.5</td>\n",
       "      <td>272.0</td>\n",
       "      <td>0.01</td>\n",
       "      <td>67.0</td>\n",
       "      <td>17.6</td>\n",
       "      <td>67.0</td>\n",
       "      <td>8.52</td>\n",
       "      <td>...</td>\n",
       "      <td>18.0</td>\n",
       "      <td>0.463</td>\n",
       "      <td>9.8</td>\n",
       "      <td>4.248495</td>\n",
       "      <td>4.371777</td>\n",
       "      <td>7.933080</td>\n",
       "      <td>4.543295</td>\n",
       "      <td>0.09531</td>\n",
       "      <td>6.508708</td>\n",
       "      <td>15.123021</td>\n",
       "    </tr>\n",
       "    <tr>\n",
       "      <th>4</th>\n",
       "      <td>Afghanistan</td>\n",
       "      <td>2011</td>\n",
       "      <td>Developing</td>\n",
       "      <td>59.2</td>\n",
       "      <td>275.0</td>\n",
       "      <td>0.01</td>\n",
       "      <td>68.0</td>\n",
       "      <td>17.2</td>\n",
       "      <td>68.0</td>\n",
       "      <td>7.87</td>\n",
       "      <td>...</td>\n",
       "      <td>18.2</td>\n",
       "      <td>0.454</td>\n",
       "      <td>9.5</td>\n",
       "      <td>4.276666</td>\n",
       "      <td>2.091507</td>\n",
       "      <td>8.011023</td>\n",
       "      <td>4.584967</td>\n",
       "      <td>0.09531</td>\n",
       "      <td>4.167242</td>\n",
       "      <td>14.906964</td>\n",
       "    </tr>\n",
       "  </tbody>\n",
       "</table>\n",
       "<p>5 rows × 22 columns</p>\n",
       "</div>"
      ],
      "text/plain": [
       "       Country  Year      Status  Life.expectancy  Adult.Mortality  Alcohol  \\\n",
       "0  Afghanistan  2015  Developing             65.0            263.0     0.01   \n",
       "1  Afghanistan  2014  Developing             59.9            271.0     0.01   \n",
       "2  Afghanistan  2013  Developing             59.9            268.0     0.01   \n",
       "3  Afghanistan  2012  Developing             59.5            272.0     0.01   \n",
       "4  Afghanistan  2011  Developing             59.2            275.0     0.01   \n",
       "\n",
       "   Hepatitis.B   BMI  Polio  Total.expenditure  ...  thinness.5.9.years  \\\n",
       "0         65.0  19.1    6.0               8.16  ...                17.3   \n",
       "1         62.0  18.6   58.0               8.18  ...                17.5   \n",
       "2         64.0  18.1   62.0               8.13  ...                17.7   \n",
       "3         67.0  17.6   67.0               8.52  ...                18.0   \n",
       "4         68.0  17.2   68.0               7.87  ...                18.2   \n",
       "\n",
       "   Income.composition.of.resources  Schooling  log_infant  \\\n",
       "0                            0.479       10.1    4.143135   \n",
       "1                            0.476       10.0    4.174387   \n",
       "2                            0.470        9.9    4.204693   \n",
       "3                            0.463        9.8    4.248495   \n",
       "4                            0.454        9.5    4.276666   \n",
       "\n",
       "   log_percentageexpenditure  log_Measles  log_underfivedeaths  log_HIVAIDS  \\\n",
       "0                   4.280542     7.051856             4.430817      0.09531   \n",
       "1                   4.311116     6.200509             4.465908      0.09531   \n",
       "2                   4.307023     6.066108             4.499810      0.09531   \n",
       "3                   4.371777     7.933080             4.543295      0.09531   \n",
       "4                   2.091507     8.011023             4.584967      0.09531   \n",
       "\n",
       "    log_GDP  log_Population  \n",
       "0  6.372055       17.334091  \n",
       "1  6.419501       12.699497  \n",
       "2  6.450067       17.272826  \n",
       "3  6.508708       15.123021  \n",
       "4  4.167242       14.906964  \n",
       "\n",
       "[5 rows x 22 columns]"
      ]
     },
     "execution_count": 109,
     "metadata": {},
     "output_type": "execute_result"
    }
   ],
   "source": [
    "delta1.head()"
   ]
  },
  {
   "cell_type": "code",
   "execution_count": 110,
   "metadata": {},
   "outputs": [
    {
     "data": {
      "text/plain": [
       "<matplotlib.axes._subplots.AxesSubplot at 0x28fd48ea3c8>"
      ]
     },
     "execution_count": 110,
     "metadata": {},
     "output_type": "execute_result"
    },
    {
     "data": {
      "image/png": "[encoded data removed]",
      "text/plain": [
       "<Figure size 432x288 with 1 Axes>"
      ]
     },
     "metadata": {
      "needs_background": "light"
     },
     "output_type": "display_data"
    }
   ],
   "source": [
    "import seaborn as sns\n",
    "sns.boxplot(x=delta1['Life.expectancy'])"
   ]
  },
  {
   "cell_type": "code",
   "execution_count": 44,
   "metadata": {},
   "outputs": [
    {
     "data": {
      "text/plain": [
       "<matplotlib.axes._subplots.AxesSubplot at 0x28fd45a2808>"
      ]
     },
     "execution_count": 44,
     "metadata": {},
     "output_type": "execute_result"
    },
    {
     "data": {
      "image/png": "[encoded data removed]",
      "text/plain": [
       "<Figure size 432x288 with 1 Axes>"
      ]
     },
     "metadata": {
      "needs_background": "light"
     },
     "output_type": "display_data"
    }
   ],
   "source": [
    "sns.boxplot(x=delta1['Adult.Mortality'])"
   ]
  },
  {
   "cell_type": "code",
   "execution_count": 14,
   "metadata": {},
   "outputs": [
    {
     "data": {
      "text/plain": [
       "<matplotlib.axes._subplots.AxesSubplot at 0x28fd2a79b08>"
      ]
     },
     "execution_count": 14,
     "metadata": {},
     "output_type": "execute_result"
    },
    {
     "data": {
      "image/png": "[encoded data removed]",
      "text/plain": [
       "<Figure size 432x288 with 1 Axes>"
      ]
     },
     "metadata": {
      "needs_background": "light"
     },
     "output_type": "display_data"
    }
   ],
   "source": [
    "sns.boxplot(x=delta1['Alcohol'])"
   ]
  },
  {
   "cell_type": "code",
   "execution_count": 15,
   "metadata": {},
   "outputs": [
    {
     "data": {
      "text/plain": [
       "<matplotlib.axes._subplots.AxesSubplot at 0x28fd2b11608>"
      ]
     },
     "execution_count": 15,
     "metadata": {},
     "output_type": "execute_result"
    },
    {
     "data": {
      "image/png": "[encoded data removed]",
      "text/plain": [
       "<Figure size 432x288 with 1 Axes>"
      ]
     },
     "metadata": {
      "needs_background": "light"
     },
     "output_type": "display_data"
    }
   ],
   "source": [
    "sns.boxplot(x=delta1['Hepatitis.B'])"
   ]
  },
  {
   "cell_type": "code",
   "execution_count": 16,
   "metadata": {},
   "outputs": [
    {
     "data": {
      "text/plain": [
       "<matplotlib.axes._subplots.AxesSubplot at 0x28fd2b52b48>"
      ]
     },
     "execution_count": 16,
     "metadata": {},
     "output_type": "execute_result"
    },
    {
     "data": {
      "image/png": "[encoded data removed]",
      "text/plain": [
       "<Figure size 432x288 with 1 Axes>"
      ]
     },
     "metadata": {
      "needs_background": "light"
     },
     "output_type": "display_data"
    }
   ],
   "source": [
    "sns.boxplot(x=delta1['BMI'])"
   ]
  },
  {
   "cell_type": "code",
   "execution_count": 17,
   "metadata": {},
   "outputs": [
    {
     "data": {
      "text/plain": [
       "<matplotlib.axes._subplots.AxesSubplot at 0x28fd2bd5748>"
      ]
     },
     "execution_count": 17,
     "metadata": {},
     "output_type": "execute_result"
    },
    {
     "data": {
      "image/png": "[encoded data removed]",
      "text/plain": [
       "<Figure size 432x288 with 1 Axes>"
      ]
     },
     "metadata": {
      "needs_background": "light"
     },
     "output_type": "display_data"
    }
   ],
   "source": [
    "sns.boxplot(x=delta1['Polio'])"
   ]
  },
  {
   "cell_type": "code",
   "execution_count": 18,
   "metadata": {},
   "outputs": [
    {
     "data": {
      "text/plain": [
       "<matplotlib.axes._subplots.AxesSubplot at 0x28fd2c1a7c8>"
      ]
     },
     "execution_count": 18,
     "metadata": {},
     "output_type": "execute_result"
    },
    {
     "data": {
      "image/png": "[encoded data removed]",
      "text/plain": [
       "<Figure size 432x288 with 1 Axes>"
      ]
     },
     "metadata": {
      "needs_background": "light"
     },
     "output_type": "display_data"
    }
   ],
   "source": [
    "sns.boxplot(x=delta1['Total.expenditure'])"
   ]
  },
  {
   "cell_type": "code",
   "execution_count": 19,
   "metadata": {},
   "outputs": [
    {
     "data": {
      "text/plain": [
       "<matplotlib.axes._subplots.AxesSubplot at 0x28fd2cb1408>"
      ]
     },
     "execution_count": 19,
     "metadata": {},
     "output_type": "execute_result"
    },
    {
     "data": {
      "image/png": "[encoded data removed]",
      "text/plain": [
       "<Figure size 432x288 with 1 Axes>"
      ]
     },
     "metadata": {
      "needs_background": "light"
     },
     "output_type": "display_data"
    }
   ],
   "source": [
    "sns.boxplot(x=delta1['Diphtheria'])"
   ]
  },
  {
   "cell_type": "code",
   "execution_count": 20,
   "metadata": {},
   "outputs": [
    {
     "data": {
      "text/plain": [
       "<matplotlib.axes._subplots.AxesSubplot at 0x28fd2ceba08>"
      ]
     },
     "execution_count": 20,
     "metadata": {},
     "output_type": "execute_result"
    },
    {
     "data": {
      "image/png": "[encoded data removed]",
      "text/plain": [
       "<Figure size 432x288 with 1 Axes>"
      ]
     },
     "metadata": {
      "needs_background": "light"
     },
     "output_type": "display_data"
    }
   ],
   "source": [
    "sns.boxplot(x=delta1['thinness..1.19.years'])"
   ]
  },
  {
   "cell_type": "code",
   "execution_count": 21,
   "metadata": {},
   "outputs": [
    {
     "data": {
      "text/plain": [
       "<matplotlib.axes._subplots.AxesSubplot at 0x28fd2d4fbc8>"
      ]
     },
     "execution_count": 21,
     "metadata": {},
     "output_type": "execute_result"
    },
    {
     "data": {
      "image/png": "[encoded data removed]",
      "text/plain": [
       "<Figure size 432x288 with 1 Axes>"
      ]
     },
     "metadata": {
      "needs_background": "light"
     },
     "output_type": "display_data"
    }
   ],
   "source": [
    "    sns.boxplot(x=delta1['thinness.5.9.years'])"
   ]
  },
  {
   "cell_type": "code",
   "execution_count": 22,
   "metadata": {},
   "outputs": [
    {
     "data": {
      "text/plain": [
       "<matplotlib.axes._subplots.AxesSubplot at 0x28fd2db7a48>"
      ]
     },
     "execution_count": 22,
     "metadata": {},
     "output_type": "execute_result"
    },
    {
     "data": {
      "image/png": "[encoded data removed]",
      "text/plain": [
       "<Figure size 432x288 with 1 Axes>"
      ]
     },
     "metadata": {
      "needs_background": "light"
     },
     "output_type": "display_data"
    }
   ],
   "source": [
    "sns.boxplot(x=delta1['Income.composition.of.resources'])"
   ]
  },
  {
   "cell_type": "code",
   "execution_count": 23,
   "metadata": {},
   "outputs": [
    {
     "data": {
      "text/plain": [
       "<matplotlib.axes._subplots.AxesSubplot at 0x28fd2e24308>"
      ]
     },
     "execution_count": 23,
     "metadata": {},
     "output_type": "execute_result"
    },
    {
     "data": {
      "image/png": "[encoded data removed]",
      "text/plain": [
       "<Figure size 432x288 with 1 Axes>"
      ]
     },
     "metadata": {
      "needs_background": "light"
     },
     "output_type": "display_data"
    }
   ],
   "source": [
    "sns.boxplot(x=delta1['Schooling'])"
   ]
  },
  {
   "cell_type": "code",
   "execution_count": 24,
   "metadata": {},
   "outputs": [
    {
     "data": {
      "text/plain": [
       "<matplotlib.axes._subplots.AxesSubplot at 0x28fd2e887c8>"
      ]
     },
     "execution_count": 24,
     "metadata": {},
     "output_type": "execute_result"
    },
    {
     "data": {
      "image/png": "[encoded data removed]",
      "text/plain": [
       "<Figure size 432x288 with 1 Axes>"
      ]
     },
     "metadata": {
      "needs_background": "light"
     },
     "output_type": "display_data"
    }
   ],
   "source": [
    "sns.boxplot(x=delta1['log_infant'])"
   ]
  },
  {
   "cell_type": "code",
   "execution_count": 26,
   "metadata": {},
   "outputs": [
    {
     "data": {
      "text/plain": [
       "<matplotlib.axes._subplots.AxesSubplot at 0x28fd2ee6e08>"
      ]
     },
     "execution_count": 26,
     "metadata": {},
     "output_type": "execute_result"
    },
    {
     "data": {
      "image/png": "[encoded data removed]",
      "text/plain": [
       "<Figure size 432x288 with 1 Axes>"
      ]
     },
     "metadata": {
      "needs_background": "light"
     },
     "output_type": "display_data"
    }
   ],
   "source": [
    "sns.boxplot(x=delta1['log_percentageexpenditure'])"
   ]
  },
  {
   "cell_type": "code",
   "execution_count": 27,
   "metadata": {},
   "outputs": [
    {
     "data": {
      "text/plain": [
       "<matplotlib.axes._subplots.AxesSubplot at 0x28fd30abb08>"
      ]
     },
     "execution_count": 27,
     "metadata": {},
     "output_type": "execute_result"
    },
    {
     "data": {
      "image/png": "[encoded data removed]",
      "text/plain": [
       "<Figure size 432x288 with 1 Axes>"
      ]
     },
     "metadata": {
      "needs_background": "light"
     },
     "output_type": "display_data"
    }
   ],
   "source": [
    "sns.boxplot(x=delta1['log_Measles'])"
   ]
  },
  {
   "cell_type": "code",
   "execution_count": 28,
   "metadata": {},
   "outputs": [
    {
     "data": {
      "text/plain": [
       "<matplotlib.axes._subplots.AxesSubplot at 0x28fd310bdc8>"
      ]
     },
     "execution_count": 28,
     "metadata": {},
     "output_type": "execute_result"
    },
    {
     "data": {
      "image/png": "[encoded data removed]",
      "text/plain": [
       "<Figure size 432x288 with 1 Axes>"
      ]
     },
     "metadata": {
      "needs_background": "light"
     },
     "output_type": "display_data"
    }
   ],
   "source": [
    "sns.boxplot(x=delta1['log_underfivedeaths'])"
   ]
  },
  {
   "cell_type": "code",
   "execution_count": 29,
   "metadata": {},
   "outputs": [
    {
     "data": {
      "text/plain": [
       "<matplotlib.axes._subplots.AxesSubplot at 0x28fd31748c8>"
      ]
     },
     "execution_count": 29,
     "metadata": {},
     "output_type": "execute_result"
    },
    {
     "data": {
      "image/png": "[encoded data removed]",
      "text/plain": [
       "<Figure size 432x288 with 1 Axes>"
      ]
     },
     "metadata": {
      "needs_background": "light"
     },
     "output_type": "display_data"
    }
   ],
   "source": [
    "sns.boxplot(x=delta1['log_HIVAIDS'])"
   ]
  },
  {
   "cell_type": "code",
   "execution_count": 30,
   "metadata": {},
   "outputs": [
    {
     "data": {
      "text/plain": [
       "<matplotlib.axes._subplots.AxesSubplot at 0x28fd31e06c8>"
      ]
     },
     "execution_count": 30,
     "metadata": {},
     "output_type": "execute_result"
    },
    {
     "data": {
      "image/png": "[encoded data removed]",
      "text/plain": [
       "<Figure size 432x288 with 1 Axes>"
      ]
     },
     "metadata": {
      "needs_background": "light"
     },
     "output_type": "display_data"
    }
   ],
   "source": [
    "sns.boxplot(x=delta1['log_GDP'])"
   ]
  },
  {
   "cell_type": "code",
   "execution_count": 31,
   "metadata": {},
   "outputs": [
    {
     "data": {
      "text/plain": [
       "<matplotlib.axes._subplots.AxesSubplot at 0x28fd4212d48>"
      ]
     },
     "execution_count": 31,
     "metadata": {},
     "output_type": "execute_result"
    },
    {
     "data": {
      "image/png": "[encoded data removed]",
      "text/plain": [
       "<Figure size 432x288 with 1 Axes>"
      ]
     },
     "metadata": {
      "needs_background": "light"
     },
     "output_type": "display_data"
    }
   ],
   "source": [
    "sns.boxplot(x=delta1['log_Population'])"
   ]
  },
  {
   "cell_type": "code",
   "execution_count": 36,
   "metadata": {},
   "outputs": [
    {
     "name": "stdout",
     "output_type": "stream",
     "text": [
      "Year                                 8.000000\n",
      "Life.expectancy                     12.400000\n",
      "Adult.Mortality                    153.000000\n",
      "Alcohol                              6.297500\n",
      "Hepatitis.B                         15.059539\n",
      "BMI                                 36.700000\n",
      "Polio                               19.000000\n",
      "Total.expenditure                    2.960000\n",
      "Diphtheria                          19.000000\n",
      "thinness..1.19.years                 5.500000\n",
      "thinness.5.9.years                   5.600000\n",
      "Income.composition.of.resources      0.267750\n",
      "Schooling                            3.800000\n",
      "log_infant                           3.135494\n",
      "log_percentageexpenditure            4.354632\n",
      "log_Measles                          5.889564\n",
      "log_underfivedeaths                  3.367296\n",
      "log_HIVAIDS                          0.492476\n",
      "log_GDP                              2.554958\n",
      "log_Population                       3.415876\n",
      "dtype: float64\n"
     ]
    }
   ],
   "source": [
    "Q1 = delta1.quantile(0.25)\n",
    "Q3 = delta1.quantile(0.75)\n",
    "IQR = Q3 - Q1\n",
    "print(IQR)"
   ]
  },
  {
   "cell_type": "code",
   "execution_count": 111,
   "metadata": {},
   "outputs": [
    {
     "data": {
      "text/html": [
       "<div>\n",
       "<style scoped>\n",
       "    .dataframe tbody tr th:only-of-type {\n",
       "        vertical-align: middle;\n",
       "    }\n",
       "\n",
       "    .dataframe tbody tr th {\n",
       "        vertical-align: top;\n",
       "    }\n",
       "\n",
       "    .dataframe thead th {\n",
       "        text-align: right;\n",
       "    }\n",
       "</style>\n",
       "<table border=\"1\" class=\"dataframe\">\n",
       "  <thead>\n",
       "    <tr style=\"text-align: right;\">\n",
       "      <th></th>\n",
       "      <th>Country</th>\n",
       "      <th>Year</th>\n",
       "      <th>Status</th>\n",
       "      <th>Life.expectancy</th>\n",
       "      <th>Adult.Mortality</th>\n",
       "      <th>Alcohol</th>\n",
       "      <th>Hepatitis.B</th>\n",
       "      <th>BMI</th>\n",
       "      <th>Polio</th>\n",
       "      <th>Total.expenditure</th>\n",
       "      <th>...</th>\n",
       "      <th>thinness.5.9.years</th>\n",
       "      <th>Income.composition.of.resources</th>\n",
       "      <th>Schooling</th>\n",
       "      <th>log_infant</th>\n",
       "      <th>log_percentageexpenditure</th>\n",
       "      <th>log_Measles</th>\n",
       "      <th>log_underfivedeaths</th>\n",
       "      <th>log_HIVAIDS</th>\n",
       "      <th>log_GDP</th>\n",
       "      <th>log_Population</th>\n",
       "    </tr>\n",
       "  </thead>\n",
       "  <tbody>\n",
       "    <tr>\n",
       "      <th>0</th>\n",
       "      <td>Afghanistan</td>\n",
       "      <td>2015</td>\n",
       "      <td>Developing</td>\n",
       "      <td>65.0</td>\n",
       "      <td>263.0</td>\n",
       "      <td>0.01</td>\n",
       "      <td>65.0</td>\n",
       "      <td>19.1</td>\n",
       "      <td>6.0</td>\n",
       "      <td>8.16</td>\n",
       "      <td>...</td>\n",
       "      <td>17.3</td>\n",
       "      <td>0.479</td>\n",
       "      <td>10.1</td>\n",
       "      <td>4.143135</td>\n",
       "      <td>4.280542</td>\n",
       "      <td>7.051856</td>\n",
       "      <td>4.430817</td>\n",
       "      <td>0.09531</td>\n",
       "      <td>6.372055</td>\n",
       "      <td>17.334091</td>\n",
       "    </tr>\n",
       "    <tr>\n",
       "      <th>1</th>\n",
       "      <td>Afghanistan</td>\n",
       "      <td>2014</td>\n",
       "      <td>Developing</td>\n",
       "      <td>59.9</td>\n",
       "      <td>271.0</td>\n",
       "      <td>0.01</td>\n",
       "      <td>62.0</td>\n",
       "      <td>18.6</td>\n",
       "      <td>58.0</td>\n",
       "      <td>8.18</td>\n",
       "      <td>...</td>\n",
       "      <td>17.5</td>\n",
       "      <td>0.476</td>\n",
       "      <td>10.0</td>\n",
       "      <td>4.174387</td>\n",
       "      <td>4.311116</td>\n",
       "      <td>6.200509</td>\n",
       "      <td>4.465908</td>\n",
       "      <td>0.09531</td>\n",
       "      <td>6.419501</td>\n",
       "      <td>12.699497</td>\n",
       "    </tr>\n",
       "    <tr>\n",
       "      <th>2</th>\n",
       "      <td>Afghanistan</td>\n",
       "      <td>2013</td>\n",
       "      <td>Developing</td>\n",
       "      <td>59.9</td>\n",
       "      <td>268.0</td>\n",
       "      <td>0.01</td>\n",
       "      <td>64.0</td>\n",
       "      <td>18.1</td>\n",
       "      <td>62.0</td>\n",
       "      <td>8.13</td>\n",
       "      <td>...</td>\n",
       "      <td>17.7</td>\n",
       "      <td>0.470</td>\n",
       "      <td>9.9</td>\n",
       "      <td>4.204693</td>\n",
       "      <td>4.307023</td>\n",
       "      <td>6.066108</td>\n",
       "      <td>4.499810</td>\n",
       "      <td>0.09531</td>\n",
       "      <td>6.450067</td>\n",
       "      <td>17.272826</td>\n",
       "    </tr>\n",
       "    <tr>\n",
       "      <th>3</th>\n",
       "      <td>Afghanistan</td>\n",
       "      <td>2012</td>\n",
       "      <td>Developing</td>\n",
       "      <td>59.5</td>\n",
       "      <td>272.0</td>\n",
       "      <td>0.01</td>\n",
       "      <td>67.0</td>\n",
       "      <td>17.6</td>\n",
       "      <td>67.0</td>\n",
       "      <td>8.52</td>\n",
       "      <td>...</td>\n",
       "      <td>18.0</td>\n",
       "      <td>0.463</td>\n",
       "      <td>9.8</td>\n",
       "      <td>4.248495</td>\n",
       "      <td>4.371777</td>\n",
       "      <td>7.933080</td>\n",
       "      <td>4.543295</td>\n",
       "      <td>0.09531</td>\n",
       "      <td>6.508708</td>\n",
       "      <td>15.123021</td>\n",
       "    </tr>\n",
       "    <tr>\n",
       "      <th>4</th>\n",
       "      <td>Afghanistan</td>\n",
       "      <td>2011</td>\n",
       "      <td>Developing</td>\n",
       "      <td>59.2</td>\n",
       "      <td>275.0</td>\n",
       "      <td>0.01</td>\n",
       "      <td>68.0</td>\n",
       "      <td>17.2</td>\n",
       "      <td>68.0</td>\n",
       "      <td>7.87</td>\n",
       "      <td>...</td>\n",
       "      <td>18.2</td>\n",
       "      <td>0.454</td>\n",
       "      <td>9.5</td>\n",
       "      <td>4.276666</td>\n",
       "      <td>2.091507</td>\n",
       "      <td>8.011023</td>\n",
       "      <td>4.584967</td>\n",
       "      <td>0.09531</td>\n",
       "      <td>4.167242</td>\n",
       "      <td>14.906964</td>\n",
       "    </tr>\n",
       "  </tbody>\n",
       "</table>\n",
       "<p>5 rows × 22 columns</p>\n",
       "</div>"
      ],
      "text/plain": [
       "       Country  Year      Status  Life.expectancy  Adult.Mortality  Alcohol  \\\n",
       "0  Afghanistan  2015  Developing             65.0            263.0     0.01   \n",
       "1  Afghanistan  2014  Developing             59.9            271.0     0.01   \n",
       "2  Afghanistan  2013  Developing             59.9            268.0     0.01   \n",
       "3  Afghanistan  2012  Developing             59.5            272.0     0.01   \n",
       "4  Afghanistan  2011  Developing             59.2            275.0     0.01   \n",
       "\n",
       "   Hepatitis.B   BMI  Polio  Total.expenditure  ...  thinness.5.9.years  \\\n",
       "0         65.0  19.1    6.0               8.16  ...                17.3   \n",
       "1         62.0  18.6   58.0               8.18  ...                17.5   \n",
       "2         64.0  18.1   62.0               8.13  ...                17.7   \n",
       "3         67.0  17.6   67.0               8.52  ...                18.0   \n",
       "4         68.0  17.2   68.0               7.87  ...                18.2   \n",
       "\n",
       "   Income.composition.of.resources  Schooling  log_infant  \\\n",
       "0                            0.479       10.1    4.143135   \n",
       "1                            0.476       10.0    4.174387   \n",
       "2                            0.470        9.9    4.204693   \n",
       "3                            0.463        9.8    4.248495   \n",
       "4                            0.454        9.5    4.276666   \n",
       "\n",
       "   log_percentageexpenditure  log_Measles  log_underfivedeaths  log_HIVAIDS  \\\n",
       "0                   4.280542     7.051856             4.430817      0.09531   \n",
       "1                   4.311116     6.200509             4.465908      0.09531   \n",
       "2                   4.307023     6.066108             4.499810      0.09531   \n",
       "3                   4.371777     7.933080             4.543295      0.09531   \n",
       "4                   2.091507     8.011023             4.584967      0.09531   \n",
       "\n",
       "    log_GDP  log_Population  \n",
       "0  6.372055       17.334091  \n",
       "1  6.419501       12.699497  \n",
       "2  6.450067       17.272826  \n",
       "3  6.508708       15.123021  \n",
       "4  4.167242       14.906964  \n",
       "\n",
       "[5 rows x 22 columns]"
      ]
     },
     "execution_count": 111,
     "metadata": {},
     "output_type": "execute_result"
    }
   ],
   "source": [
    "delta2 = delta1.copy()\n",
    "delta2.head()"
   ]
  },
  {
   "cell_type": "code",
   "execution_count": 112,
   "metadata": {},
   "outputs": [
    {
     "data": {
      "text/plain": [
       "Country                            0\n",
       "Year                               0\n",
       "Status                             0\n",
       "Life.expectancy                    0\n",
       "Adult.Mortality                    0\n",
       "Alcohol                            0\n",
       "Hepatitis.B                        0\n",
       "BMI                                0\n",
       "Polio                              0\n",
       "Total.expenditure                  0\n",
       "Diphtheria                         0\n",
       "thinness..1.19.years               0\n",
       "thinness.5.9.years                 0\n",
       "Income.composition.of.resources    0\n",
       "Schooling                          0\n",
       "log_infant                         0\n",
       "log_percentageexpenditure          0\n",
       "log_Measles                        0\n",
       "log_underfivedeaths                0\n",
       "log_HIVAIDS                        0\n",
       "log_GDP                            0\n",
       "log_Population                     0\n",
       "dtype: int64"
      ]
     },
     "execution_count": 112,
     "metadata": {},
     "output_type": "execute_result"
    }
   ],
   "source": [
    "delta2.isnull().sum()"
   ]
  },
  {
   "cell_type": "code",
   "execution_count": 113,
   "metadata": {},
   "outputs": [
    {
     "data": {
      "text/html": [
       "<div>\n",
       "<style scoped>\n",
       "    .dataframe tbody tr th:only-of-type {\n",
       "        vertical-align: middle;\n",
       "    }\n",
       "\n",
       "    .dataframe tbody tr th {\n",
       "        vertical-align: top;\n",
       "    }\n",
       "\n",
       "    .dataframe thead th {\n",
       "        text-align: right;\n",
       "    }\n",
       "</style>\n",
       "<table border=\"1\" class=\"dataframe\">\n",
       "  <thead>\n",
       "    <tr style=\"text-align: right;\">\n",
       "      <th></th>\n",
       "      <th>Year</th>\n",
       "      <th>Life.expectancy</th>\n",
       "      <th>Adult.Mortality</th>\n",
       "      <th>Alcohol</th>\n",
       "      <th>Hepatitis.B</th>\n",
       "      <th>BMI</th>\n",
       "      <th>Polio</th>\n",
       "      <th>Total.expenditure</th>\n",
       "      <th>Diphtheria</th>\n",
       "      <th>thinness..1.19.years</th>\n",
       "      <th>thinness.5.9.years</th>\n",
       "      <th>Income.composition.of.resources</th>\n",
       "      <th>Schooling</th>\n",
       "      <th>log_infant</th>\n",
       "      <th>log_percentageexpenditure</th>\n",
       "      <th>log_Measles</th>\n",
       "      <th>log_underfivedeaths</th>\n",
       "      <th>log_HIVAIDS</th>\n",
       "      <th>log_GDP</th>\n",
       "      <th>log_Population</th>\n",
       "    </tr>\n",
       "  </thead>\n",
       "  <tbody>\n",
       "    <tr>\n",
       "      <th>count</th>\n",
       "      <td>2938.000000</td>\n",
       "      <td>2938.000000</td>\n",
       "      <td>2938.000000</td>\n",
       "      <td>2938.000000</td>\n",
       "      <td>2938.000000</td>\n",
       "      <td>2938.000000</td>\n",
       "      <td>2938.000000</td>\n",
       "      <td>2938.000000</td>\n",
       "      <td>2938.000000</td>\n",
       "      <td>2938.000000</td>\n",
       "      <td>2938.000000</td>\n",
       "      <td>2938.000000</td>\n",
       "      <td>2938.000000</td>\n",
       "      <td>2938.000000</td>\n",
       "      <td>2938.000000</td>\n",
       "      <td>2938.000000</td>\n",
       "      <td>2938.000000</td>\n",
       "      <td>2938.000000</td>\n",
       "      <td>2938.000000</td>\n",
       "      <td>2938.000000</td>\n",
       "    </tr>\n",
       "    <tr>\n",
       "      <th>mean</th>\n",
       "      <td>2007.518720</td>\n",
       "      <td>69.224932</td>\n",
       "      <td>164.796448</td>\n",
       "      <td>4.602861</td>\n",
       "      <td>80.940461</td>\n",
       "      <td>38.321247</td>\n",
       "      <td>82.550188</td>\n",
       "      <td>5.938190</td>\n",
       "      <td>82.324084</td>\n",
       "      <td>4.839704</td>\n",
       "      <td>4.870317</td>\n",
       "      <td>0.627551</td>\n",
       "      <td>11.992793</td>\n",
       "      <td>1.768585</td>\n",
       "      <td>3.986284</td>\n",
       "      <td>3.357053</td>\n",
       "      <td>1.940084</td>\n",
       "      <td>0.510334</td>\n",
       "      <td>7.691502</td>\n",
       "      <td>14.440682</td>\n",
       "    </tr>\n",
       "    <tr>\n",
       "      <th>std</th>\n",
       "      <td>4.613841</td>\n",
       "      <td>9.507640</td>\n",
       "      <td>124.080302</td>\n",
       "      <td>3.916288</td>\n",
       "      <td>22.586855</td>\n",
       "      <td>19.927677</td>\n",
       "      <td>23.352143</td>\n",
       "      <td>2.400274</td>\n",
       "      <td>23.640073</td>\n",
       "      <td>4.394535</td>\n",
       "      <td>4.482708</td>\n",
       "      <td>0.204820</td>\n",
       "      <td>3.264381</td>\n",
       "      <td>1.663020</td>\n",
       "      <td>2.729832</td>\n",
       "      <td>3.259046</td>\n",
       "      <td>1.781790</td>\n",
       "      <td>0.765864</td>\n",
       "      <td>1.800204</td>\n",
       "      <td>2.560756</td>\n",
       "    </tr>\n",
       "    <tr>\n",
       "      <th>min</th>\n",
       "      <td>2000.000000</td>\n",
       "      <td>36.300000</td>\n",
       "      <td>1.000000</td>\n",
       "      <td>0.010000</td>\n",
       "      <td>1.000000</td>\n",
       "      <td>1.000000</td>\n",
       "      <td>3.000000</td>\n",
       "      <td>0.370000</td>\n",
       "      <td>2.000000</td>\n",
       "      <td>0.100000</td>\n",
       "      <td>0.100000</td>\n",
       "      <td>0.000000</td>\n",
       "      <td>0.000000</td>\n",
       "      <td>0.000000</td>\n",
       "      <td>0.000000</td>\n",
       "      <td>0.000000</td>\n",
       "      <td>0.000000</td>\n",
       "      <td>0.095310</td>\n",
       "      <td>0.986320</td>\n",
       "      <td>3.555348</td>\n",
       "    </tr>\n",
       "    <tr>\n",
       "      <th>25%</th>\n",
       "      <td>2004.000000</td>\n",
       "      <td>63.200000</td>\n",
       "      <td>74.000000</td>\n",
       "      <td>1.092500</td>\n",
       "      <td>80.940461</td>\n",
       "      <td>19.400000</td>\n",
       "      <td>78.000000</td>\n",
       "      <td>4.370000</td>\n",
       "      <td>78.000000</td>\n",
       "      <td>1.600000</td>\n",
       "      <td>1.600000</td>\n",
       "      <td>0.504250</td>\n",
       "      <td>10.300000</td>\n",
       "      <td>0.000000</td>\n",
       "      <td>1.737885</td>\n",
       "      <td>0.000000</td>\n",
       "      <td>0.000000</td>\n",
       "      <td>0.095310</td>\n",
       "      <td>6.365586</td>\n",
       "      <td>12.945431</td>\n",
       "    </tr>\n",
       "    <tr>\n",
       "      <th>50%</th>\n",
       "      <td>2008.000000</td>\n",
       "      <td>72.000000</td>\n",
       "      <td>144.000000</td>\n",
       "      <td>4.160000</td>\n",
       "      <td>87.000000</td>\n",
       "      <td>43.000000</td>\n",
       "      <td>93.000000</td>\n",
       "      <td>5.938190</td>\n",
       "      <td>93.000000</td>\n",
       "      <td>3.400000</td>\n",
       "      <td>3.400000</td>\n",
       "      <td>0.662000</td>\n",
       "      <td>12.100000</td>\n",
       "      <td>1.386294</td>\n",
       "      <td>4.188334</td>\n",
       "      <td>2.890372</td>\n",
       "      <td>1.609438</td>\n",
       "      <td>0.095310</td>\n",
       "      <td>8.044806</td>\n",
       "      <td>15.117311</td>\n",
       "    </tr>\n",
       "    <tr>\n",
       "      <th>75%</th>\n",
       "      <td>2012.000000</td>\n",
       "      <td>75.600000</td>\n",
       "      <td>227.000000</td>\n",
       "      <td>7.390000</td>\n",
       "      <td>96.000000</td>\n",
       "      <td>56.100000</td>\n",
       "      <td>97.000000</td>\n",
       "      <td>7.330000</td>\n",
       "      <td>97.000000</td>\n",
       "      <td>7.100000</td>\n",
       "      <td>7.200000</td>\n",
       "      <td>0.772000</td>\n",
       "      <td>14.100000</td>\n",
       "      <td>3.135494</td>\n",
       "      <td>6.092517</td>\n",
       "      <td>5.889564</td>\n",
       "      <td>3.367296</td>\n",
       "      <td>0.587787</td>\n",
       "      <td>8.920544</td>\n",
       "      <td>16.361307</td>\n",
       "    </tr>\n",
       "    <tr>\n",
       "      <th>max</th>\n",
       "      <td>2015.000000</td>\n",
       "      <td>89.000000</td>\n",
       "      <td>723.000000</td>\n",
       "      <td>17.870000</td>\n",
       "      <td>99.000000</td>\n",
       "      <td>87.300000</td>\n",
       "      <td>99.000000</td>\n",
       "      <td>17.600000</td>\n",
       "      <td>99.000000</td>\n",
       "      <td>27.700000</td>\n",
       "      <td>28.600000</td>\n",
       "      <td>0.948000</td>\n",
       "      <td>20.700000</td>\n",
       "      <td>7.496097</td>\n",
       "      <td>9.877190</td>\n",
       "      <td>12.265209</td>\n",
       "      <td>7.824446</td>\n",
       "      <td>3.943522</td>\n",
       "      <td>11.688338</td>\n",
       "      <td>20.980895</td>\n",
       "    </tr>\n",
       "  </tbody>\n",
       "</table>\n",
       "</div>"
      ],
      "text/plain": [
       "              Year  Life.expectancy  Adult.Mortality      Alcohol  \\\n",
       "count  2938.000000      2938.000000      2938.000000  2938.000000   \n",
       "mean   2007.518720        69.224932       164.796448     4.602861   \n",
       "std       4.613841         9.507640       124.080302     3.916288   \n",
       "min    2000.000000        36.300000         1.000000     0.010000   \n",
       "25%    2004.000000        63.200000        74.000000     1.092500   \n",
       "50%    2008.000000        72.000000       144.000000     4.160000   \n",
       "75%    2012.000000        75.600000       227.000000     7.390000   \n",
       "max    2015.000000        89.000000       723.000000    17.870000   \n",
       "\n",
       "       Hepatitis.B          BMI        Polio  Total.expenditure   Diphtheria  \\\n",
       "count  2938.000000  2938.000000  2938.000000        2938.000000  2938.000000   \n",
       "mean     80.940461    38.321247    82.550188           5.938190    82.324084   \n",
       "std      22.586855    19.927677    23.352143           2.400274    23.640073   \n",
       "min       1.000000     1.000000     3.000000           0.370000     2.000000   \n",
       "25%      80.940461    19.400000    78.000000           4.370000    78.000000   \n",
       "50%      87.000000    43.000000    93.000000           5.938190    93.000000   \n",
       "75%      96.000000    56.100000    97.000000           7.330000    97.000000   \n",
       "max      99.000000    87.300000    99.000000          17.600000    99.000000   \n",
       "\n",
       "       thinness..1.19.years  thinness.5.9.years  \\\n",
       "count           2938.000000         2938.000000   \n",
       "mean               4.839704            4.870317   \n",
       "std                4.394535            4.482708   \n",
       "min                0.100000            0.100000   \n",
       "25%                1.600000            1.600000   \n",
       "50%                3.400000            3.400000   \n",
       "75%                7.100000            7.200000   \n",
       "max               27.700000           28.600000   \n",
       "\n",
       "       Income.composition.of.resources    Schooling   log_infant  \\\n",
       "count                      2938.000000  2938.000000  2938.000000   \n",
       "mean                          0.627551    11.992793     1.768585   \n",
       "std                           0.204820     3.264381     1.663020   \n",
       "min                           0.000000     0.000000     0.000000   \n",
       "25%                           0.504250    10.300000     0.000000   \n",
       "50%                           0.662000    12.100000     1.386294   \n",
       "75%                           0.772000    14.100000     3.135494   \n",
       "max                           0.948000    20.700000     7.496097   \n",
       "\n",
       "       log_percentageexpenditure  log_Measles  log_underfivedeaths  \\\n",
       "count                2938.000000  2938.000000          2938.000000   \n",
       "mean                    3.986284     3.357053             1.940084   \n",
       "std                     2.729832     3.259046             1.781790   \n",
       "min                     0.000000     0.000000             0.000000   \n",
       "25%                     1.737885     0.000000             0.000000   \n",
       "50%                     4.188334     2.890372             1.609438   \n",
       "75%                     6.092517     5.889564             3.367296   \n",
       "max                     9.877190    12.265209             7.824446   \n",
       "\n",
       "       log_HIVAIDS      log_GDP  log_Population  \n",
       "count  2938.000000  2938.000000     2938.000000  \n",
       "mean      0.510334     7.691502       14.440682  \n",
       "std       0.765864     1.800204        2.560756  \n",
       "min       0.095310     0.986320        3.555348  \n",
       "25%       0.095310     6.365586       12.945431  \n",
       "50%       0.095310     8.044806       15.117311  \n",
       "75%       0.587787     8.920544       16.361307  \n",
       "max       3.943522    11.688338       20.980895  "
      ]
     },
     "execution_count": 113,
     "metadata": {},
     "output_type": "execute_result"
    }
   ],
   "source": [
    "delta2.describe()"
   ]
  },
  {
   "cell_type": "code",
   "execution_count": 97,
   "metadata": {},
   "outputs": [],
   "source": [
    "#Q1 = delta2.quantile(0.25)\n",
    "#Q3 = delta2.quantile(0.75)\n",
    "#IQR = Q3 - Q1\n",
    "#print(IQR)"
   ]
  },
  {
   "cell_type": "code",
   "execution_count": 98,
   "metadata": {},
   "outputs": [],
   "source": [
    "#print(delta2 < (Q1 - (1.5 * IQR))) |(delta2 > (Q3 + (1.5 * IQR)))"
   ]
  },
  {
   "cell_type": "code",
   "execution_count": 99,
   "metadata": {},
   "outputs": [],
   "source": [
    "#print(delta2['log_GDP'].quantile(0.25)) \n",
    "#print(delta2['log_GDP'].quantile(0.75)) "
   ]
  },
  {
   "cell_type": "code",
   "execution_count": 100,
   "metadata": {},
   "outputs": [],
   "source": [
    "#delta2['log_GDP'] = np.where(delta2['log_GDP'] > 8, 6, delta2['log_GDP'])\n",
    "#delta2.describe()"
   ]
  },
  {
   "cell_type": "code",
   "execution_count": 101,
   "metadata": {},
   "outputs": [],
   "source": [
    "#print(np.shape(delta2))"
   ]
  },
  {
   "cell_type": "code",
   "execution_count": 102,
   "metadata": {},
   "outputs": [
    {
     "data": {
      "text/plain": [
       "Text(0.5, 0, 'log_GDP')"
      ]
     },
     "execution_count": 102,
     "metadata": {},
     "output_type": "execute_result"
    },
    {
     "data": {
      "image/png": "[encoded data removed]",
      "text/plain": [
       "<Figure size 432x288 with 1 Axes>"
      ]
     },
     "metadata": {
      "needs_background": "light"
     },
     "output_type": "display_data"
    }
   ],
   "source": [
    "import matplotlib.pyplot as plt\n",
    "plt.boxplot(delta2['log_GDP'], vert=False)\n",
    "plt.title(\"Detecting outliers using Boxplot\")\n",
    "plt.xlabel('log_GDP')"
   ]
  },
  {
   "cell_type": "code",
   "execution_count": 114,
   "metadata": {},
   "outputs": [
    {
     "data": {
      "text/plain": [
       "(1854, 22)"
      ]
     },
     "execution_count": 114,
     "metadata": {},
     "output_type": "execute_result"
    }
   ],
   "source": [
    "delta3 = delta2[~((delta2 < (Q1 - 1.5 * IQR)) |(delta2 > (Q3 + 1.5 * IQR))).any(axis=1)]\n",
    "delta3.shape"
   ]
  },
  {
   "cell_type": "code",
   "execution_count": 106,
   "metadata": {},
   "outputs": [],
   "source": [
    "#plt.boxplot(delta3['log_GDP'], vert=False)\n",
    "#plt.title(\"Detecting outliers using Boxplot\")\n",
    "#plt.xlabel('log_GDP')"
   ]
  },
  {
   "cell_type": "code",
   "execution_count": 115,
   "metadata": {},
   "outputs": [
    {
     "data": {
      "text/html": [
       "<div>\n",
       "<style scoped>\n",
       "    .dataframe tbody tr th:only-of-type {\n",
       "        vertical-align: middle;\n",
       "    }\n",
       "\n",
       "    .dataframe tbody tr th {\n",
       "        vertical-align: top;\n",
       "    }\n",
       "\n",
       "    .dataframe thead th {\n",
       "        text-align: right;\n",
       "    }\n",
       "</style>\n",
       "<table border=\"1\" class=\"dataframe\">\n",
       "  <thead>\n",
       "    <tr style=\"text-align: right;\">\n",
       "      <th></th>\n",
       "      <th>Year</th>\n",
       "      <th>Life.expectancy</th>\n",
       "      <th>Adult.Mortality</th>\n",
       "      <th>Alcohol</th>\n",
       "      <th>Hepatitis.B</th>\n",
       "      <th>BMI</th>\n",
       "      <th>Polio</th>\n",
       "      <th>Total.expenditure</th>\n",
       "      <th>Diphtheria</th>\n",
       "      <th>thinness..1.19.years</th>\n",
       "      <th>thinness.5.9.years</th>\n",
       "      <th>Income.composition.of.resources</th>\n",
       "      <th>Schooling</th>\n",
       "      <th>log_infant</th>\n",
       "      <th>log_percentageexpenditure</th>\n",
       "      <th>log_Measles</th>\n",
       "      <th>log_underfivedeaths</th>\n",
       "      <th>log_HIVAIDS</th>\n",
       "      <th>log_GDP</th>\n",
       "      <th>log_Population</th>\n",
       "    </tr>\n",
       "  </thead>\n",
       "  <tbody>\n",
       "    <tr>\n",
       "      <th>count</th>\n",
       "      <td>1854.000000</td>\n",
       "      <td>1854.000000</td>\n",
       "      <td>1854.000000</td>\n",
       "      <td>1854.000000</td>\n",
       "      <td>1854.000000</td>\n",
       "      <td>1854.000000</td>\n",
       "      <td>1854.000000</td>\n",
       "      <td>1854.000000</td>\n",
       "      <td>1854.000000</td>\n",
       "      <td>1854.000000</td>\n",
       "      <td>1854.000000</td>\n",
       "      <td>1854.000000</td>\n",
       "      <td>1854.000000</td>\n",
       "      <td>1854.000000</td>\n",
       "      <td>1854.000000</td>\n",
       "      <td>1854.000000</td>\n",
       "      <td>1854.000000</td>\n",
       "      <td>1854.000000</td>\n",
       "      <td>1854.000000</td>\n",
       "      <td>1854.000000</td>\n",
       "    </tr>\n",
       "    <tr>\n",
       "      <th>mean</th>\n",
       "      <td>2008.172600</td>\n",
       "      <td>72.914657</td>\n",
       "      <td>128.338498</td>\n",
       "      <td>5.083065</td>\n",
       "      <td>89.618718</td>\n",
       "      <td>43.683116</td>\n",
       "      <td>91.912433</td>\n",
       "      <td>5.958306</td>\n",
       "      <td>91.798259</td>\n",
       "      <td>3.633471</td>\n",
       "      <td>3.652527</td>\n",
       "      <td>0.706971</td>\n",
       "      <td>12.988165</td>\n",
       "      <td>1.347374</td>\n",
       "      <td>4.320862</td>\n",
       "      <td>2.757198</td>\n",
       "      <td>1.469121</td>\n",
       "      <td>0.215776</td>\n",
       "      <td>8.065191</td>\n",
       "      <td>14.544932</td>\n",
       "    </tr>\n",
       "    <tr>\n",
       "      <th>std</th>\n",
       "      <td>4.541395</td>\n",
       "      <td>6.720644</td>\n",
       "      <td>80.809208</td>\n",
       "      <td>4.072736</td>\n",
       "      <td>9.228659</td>\n",
       "      <td>18.642021</td>\n",
       "      <td>8.937804</td>\n",
       "      <td>2.172175</td>\n",
       "      <td>8.913399</td>\n",
       "      <td>2.981822</td>\n",
       "      <td>3.030186</td>\n",
       "      <td>0.132982</td>\n",
       "      <td>2.631289</td>\n",
       "      <td>1.420968</td>\n",
       "      <td>2.844341</td>\n",
       "      <td>3.008478</td>\n",
       "      <td>1.505688</td>\n",
       "      <td>0.269377</td>\n",
       "      <td>1.691916</td>\n",
       "      <td>2.353718</td>\n",
       "    </tr>\n",
       "    <tr>\n",
       "      <th>min</th>\n",
       "      <td>2000.000000</td>\n",
       "      <td>45.300000</td>\n",
       "      <td>1.000000</td>\n",
       "      <td>0.010000</td>\n",
       "      <td>59.000000</td>\n",
       "      <td>2.000000</td>\n",
       "      <td>52.000000</td>\n",
       "      <td>0.650000</td>\n",
       "      <td>51.000000</td>\n",
       "      <td>0.100000</td>\n",
       "      <td>0.100000</td>\n",
       "      <td>0.308000</td>\n",
       "      <td>4.700000</td>\n",
       "      <td>0.000000</td>\n",
       "      <td>0.000000</td>\n",
       "      <td>0.000000</td>\n",
       "      <td>0.000000</td>\n",
       "      <td>0.095310</td>\n",
       "      <td>2.536184</td>\n",
       "      <td>7.857868</td>\n",
       "    </tr>\n",
       "    <tr>\n",
       "      <th>25%</th>\n",
       "      <td>2004.000000</td>\n",
       "      <td>69.000000</td>\n",
       "      <td>71.000000</td>\n",
       "      <td>1.290000</td>\n",
       "      <td>80.940461</td>\n",
       "      <td>28.600000</td>\n",
       "      <td>89.000000</td>\n",
       "      <td>4.570000</td>\n",
       "      <td>89.000000</td>\n",
       "      <td>1.400000</td>\n",
       "      <td>1.400000</td>\n",
       "      <td>0.627551</td>\n",
       "      <td>11.700000</td>\n",
       "      <td>0.000000</td>\n",
       "      <td>2.119354</td>\n",
       "      <td>0.000000</td>\n",
       "      <td>0.000000</td>\n",
       "      <td>0.095310</td>\n",
       "      <td>7.054943</td>\n",
       "      <td>13.015278</td>\n",
       "    </tr>\n",
       "    <tr>\n",
       "      <th>50%</th>\n",
       "      <td>2008.000000</td>\n",
       "      <td>73.800000</td>\n",
       "      <td>126.500000</td>\n",
       "      <td>4.602861</td>\n",
       "      <td>93.000000</td>\n",
       "      <td>51.250000</td>\n",
       "      <td>95.000000</td>\n",
       "      <td>5.938190</td>\n",
       "      <td>95.000000</td>\n",
       "      <td>2.500000</td>\n",
       "      <td>2.600000</td>\n",
       "      <td>0.722500</td>\n",
       "      <td>13.000000</td>\n",
       "      <td>0.895880</td>\n",
       "      <td>4.954674</td>\n",
       "      <td>1.791759</td>\n",
       "      <td>1.098612</td>\n",
       "      <td>0.095310</td>\n",
       "      <td>8.360312</td>\n",
       "      <td>15.309205</td>\n",
       "    </tr>\n",
       "    <tr>\n",
       "      <th>75%</th>\n",
       "      <td>2012.000000</td>\n",
       "      <td>77.000000</td>\n",
       "      <td>179.000000</td>\n",
       "      <td>8.195000</td>\n",
       "      <td>97.000000</td>\n",
       "      <td>57.600000</td>\n",
       "      <td>98.000000</td>\n",
       "      <td>7.410000</td>\n",
       "      <td>98.000000</td>\n",
       "      <td>5.500000</td>\n",
       "      <td>5.400000</td>\n",
       "      <td>0.803000</td>\n",
       "      <td>14.775000</td>\n",
       "      <td>2.397895</td>\n",
       "      <td>6.404248</td>\n",
       "      <td>4.880901</td>\n",
       "      <td>2.564949</td>\n",
       "      <td>0.182322</td>\n",
       "      <td>8.920544</td>\n",
       "      <td>16.361307</td>\n",
       "    </tr>\n",
       "    <tr>\n",
       "      <th>max</th>\n",
       "      <td>2015.000000</td>\n",
       "      <td>89.000000</td>\n",
       "      <td>441.000000</td>\n",
       "      <td>16.580000</td>\n",
       "      <td>99.000000</td>\n",
       "      <td>87.300000</td>\n",
       "      <td>99.000000</td>\n",
       "      <td>11.710000</td>\n",
       "      <td>99.000000</td>\n",
       "      <td>15.300000</td>\n",
       "      <td>15.500000</td>\n",
       "      <td>0.948000</td>\n",
       "      <td>19.700000</td>\n",
       "      <td>6.126869</td>\n",
       "      <td>9.877190</td>\n",
       "      <td>11.804124</td>\n",
       "      <td>6.326149</td>\n",
       "      <td>1.308333</td>\n",
       "      <td>11.688338</td>\n",
       "      <td>19.332494</td>\n",
       "    </tr>\n",
       "  </tbody>\n",
       "</table>\n",
       "</div>"
      ],
      "text/plain": [
       "              Year  Life.expectancy  Adult.Mortality      Alcohol  \\\n",
       "count  1854.000000      1854.000000      1854.000000  1854.000000   \n",
       "mean   2008.172600        72.914657       128.338498     5.083065   \n",
       "std       4.541395         6.720644        80.809208     4.072736   \n",
       "min    2000.000000        45.300000         1.000000     0.010000   \n",
       "25%    2004.000000        69.000000        71.000000     1.290000   \n",
       "50%    2008.000000        73.800000       126.500000     4.602861   \n",
       "75%    2012.000000        77.000000       179.000000     8.195000   \n",
       "max    2015.000000        89.000000       441.000000    16.580000   \n",
       "\n",
       "       Hepatitis.B          BMI        Polio  Total.expenditure   Diphtheria  \\\n",
       "count  1854.000000  1854.000000  1854.000000        1854.000000  1854.000000   \n",
       "mean     89.618718    43.683116    91.912433           5.958306    91.798259   \n",
       "std       9.228659    18.642021     8.937804           2.172175     8.913399   \n",
       "min      59.000000     2.000000    52.000000           0.650000    51.000000   \n",
       "25%      80.940461    28.600000    89.000000           4.570000    89.000000   \n",
       "50%      93.000000    51.250000    95.000000           5.938190    95.000000   \n",
       "75%      97.000000    57.600000    98.000000           7.410000    98.000000   \n",
       "max      99.000000    87.300000    99.000000          11.710000    99.000000   \n",
       "\n",
       "       thinness..1.19.years  thinness.5.9.years  \\\n",
       "count           1854.000000         1854.000000   \n",
       "mean               3.633471            3.652527   \n",
       "std                2.981822            3.030186   \n",
       "min                0.100000            0.100000   \n",
       "25%                1.400000            1.400000   \n",
       "50%                2.500000            2.600000   \n",
       "75%                5.500000            5.400000   \n",
       "max               15.300000           15.500000   \n",
       "\n",
       "       Income.composition.of.resources    Schooling   log_infant  \\\n",
       "count                      1854.000000  1854.000000  1854.000000   \n",
       "mean                          0.706971    12.988165     1.347374   \n",
       "std                           0.132982     2.631289     1.420968   \n",
       "min                           0.308000     4.700000     0.000000   \n",
       "25%                           0.627551    11.700000     0.000000   \n",
       "50%                           0.722500    13.000000     0.895880   \n",
       "75%                           0.803000    14.775000     2.397895   \n",
       "max                           0.948000    19.700000     6.126869   \n",
       "\n",
       "       log_percentageexpenditure  log_Measles  log_underfivedeaths  \\\n",
       "count                1854.000000  1854.000000          1854.000000   \n",
       "mean                    4.320862     2.757198             1.469121   \n",
       "std                     2.844341     3.008478             1.505688   \n",
       "min                     0.000000     0.000000             0.000000   \n",
       "25%                     2.119354     0.000000             0.000000   \n",
       "50%                     4.954674     1.791759             1.098612   \n",
       "75%                     6.404248     4.880901             2.564949   \n",
       "max                     9.877190    11.804124             6.326149   \n",
       "\n",
       "       log_HIVAIDS      log_GDP  log_Population  \n",
       "count  1854.000000  1854.000000     1854.000000  \n",
       "mean      0.215776     8.065191       14.544932  \n",
       "std       0.269377     1.691916        2.353718  \n",
       "min       0.095310     2.536184        7.857868  \n",
       "25%       0.095310     7.054943       13.015278  \n",
       "50%       0.095310     8.360312       15.309205  \n",
       "75%       0.182322     8.920544       16.361307  \n",
       "max       1.308333    11.688338       19.332494  "
      ]
     },
     "execution_count": 115,
     "metadata": {},
     "output_type": "execute_result"
    }
   ],
   "source": [
    "delta3.describe()"
   ]
  },
  {
   "cell_type": "code",
   "execution_count": 116,
   "metadata": {},
   "outputs": [],
   "source": [
    "delta3.to_csv('delta3.csv')"
   ]
  }
 ],
 "metadata": {
  "kernelspec": {
   "display_name": "Python 3",
   "language": "python",
   "name": "python3"
  },
  "language_info": {
   "codemirror_mode": {
    "name": "ipython",
    "version": 3
   },
   "file_extension": ".py",
   "mimetype": "text/x-python",
   "name": "python",
   "nbconvert_exporter": "python",
   "pygments_lexer": "ipython3",
   "version": "3.7.6"
  }
 },
 "nbformat": 4,
 "nbformat_minor": 4
}
